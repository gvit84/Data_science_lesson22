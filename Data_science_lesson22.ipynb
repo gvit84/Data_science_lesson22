{
 "cells": [
  {
   "cell_type": "markdown",
   "id": "dda513e2",
   "metadata": {},
   "source": [
    "**Task_1**"
   ]
  },
  {
   "cell_type": "code",
   "execution_count": 1,
   "id": "1cf8657f",
   "metadata": {},
   "outputs": [],
   "source": [
    "students = {i for i in range(1, 38)}\n",
    "maths = {1, 2, 3, 4, 5, 6, 7, 8, 9, 10, 11, 12, 13, 14, 15}\n",
    "physics = {1, 2, 3, 4, 5, 6, 7}\n",
    "chemistry = {1, 2, 3, 4}\n",
    "\n",
    "for i in students:\n",
    "    if len(physics) != 16 and i not in maths:\n",
    "        physics.add(i)\n",
    "    if len(chemistry) != 9 and i in (maths - physics):\n",
    "        chemistry.add(i)\n",
    "    if len(chemistry) != 11 and i in (physics - maths):\n",
    "        chemistry.add(i)\n",
    "    if len(chemistry) != 19 and i not in maths and i not in physics:\n",
    "        chemistry.add(i)"
   ]
  },
  {
   "cell_type": "code",
   "execution_count": 2,
   "id": "4ee03261",
   "metadata": {},
   "outputs": [
    {
     "name": "stdout",
     "output_type": "stream",
     "text": [
      "З математики відмінно отримали: {1, 2, 3, 4, 5, 6, 7, 8, 9, 10, 11, 12, 13, 14, 15}\n",
      "З фізики відмінно отримали: {1, 2, 3, 4, 5, 6, 7, 16, 17, 18, 19, 20, 21, 22, 23, 24}\n",
      "З хімії відмінно отримали: {1, 2, 3, 4, 8, 9, 10, 11, 12, 16, 17, 25, 26, 27, 28, 29, 30, 31, 32}\n",
      "Хоча б 1 оцінку відмінно отримали: 32 студенти\n"
     ]
    }
   ],
   "source": [
    "print(f\"З математики відмінно отримали: {maths}\")\n",
    "print(f\"З фізики відмінно отримали: {physics}\")\n",
    "print(f\"З хімії відмінно отримали: {chemistry}\")\n",
    "print(f\"Хоча б 1 оцінку відмінно отримали: {len(maths | physics | chemistry)} студенти\")"
   ]
  },
  {
   "cell_type": "code",
   "execution_count": null,
   "id": "ef1a2ca5",
   "metadata": {},
   "outputs": [],
   "source": []
  },
  {
   "cell_type": "markdown",
   "id": "fab80af3",
   "metadata": {},
   "source": [
    "**Task_2**"
   ]
  },
  {
   "cell_type": "code",
   "execution_count": 3,
   "id": "770d7df9",
   "metadata": {},
   "outputs": [],
   "source": [
    "september = {i for i in range(1, 31)}\n",
    "rain = {1, 2, 3, 4, 5, 6, 7, 8, 9, 10, 11, 12}\n",
    "wind = {1, 2, 3, 4, 5}\n",
    "cold = {1}\n",
    "\n",
    "for i in september:\n",
    "    if len(wind) != 8 and i not in rain:\n",
    "        wind.add(i)\n",
    "\n",
    "    if len(cold) != 3 and i in (rain - wind):\n",
    "        cold.add(i)\n",
    "\n",
    "    if len(cold) != 4 and i in (wind - rain):\n",
    "        cold.add(i)"
   ]
  },
  {
   "cell_type": "code",
   "execution_count": 4,
   "id": "26ee5f3f",
   "metadata": {},
   "outputs": [
    {
     "name": "stdout",
     "output_type": "stream",
     "text": [
      "У вересні 30 днів:\n",
      "{1, 2, 3, 4, 5, 6, 7, 8, 9, 10, 11, 12, 13, 14, 15, 16, 17, 18, 19, 20, 21, 22, 23, 24, 25, 26, 27, 28, 29, 30}\n",
      "Дощові дні:\n",
      "{1, 2, 3, 4, 5, 6, 7, 8, 9, 10, 11, 12}\n",
      "Вітряні дні:\n",
      "{1, 2, 3, 4, 5, 13, 14, 15}\n",
      "Холодні дні:\n",
      "{1, 13, 6, 7}\n",
      "Всього дощових, вітряних і холодних було: 15 днів\n",
      "Гарна погода у вересні була: 15 днів\n"
     ]
    }
   ],
   "source": [
    "print(f\"У вересні {len(september)} днів:\\n{september}\")\n",
    "print(f\"Дощові дні:\\n{rain}\")\n",
    "print(f\"Вітряні дні:\\n{wind}\")\n",
    "print(f\"Холодні дні:\\n{cold}\")\n",
    "print(f\"Всього дощових, вітряних і холодних було: {len(rain | wind | cold)} днів\")\n",
    "print(f\"Гарна погода у вересні була: {len(september) - len(rain | wind | cold)} днів\")\n"
   ]
  },
  {
   "cell_type": "code",
   "execution_count": null,
   "id": "a3f3d753",
   "metadata": {},
   "outputs": [],
   "source": []
  }
 ],
 "metadata": {
  "kernelspec": {
   "display_name": "Python 3 (ipykernel)",
   "language": "python",
   "name": "python3"
  },
  "language_info": {
   "codemirror_mode": {
    "name": "ipython",
    "version": 3
   },
   "file_extension": ".py",
   "mimetype": "text/x-python",
   "name": "python",
   "nbconvert_exporter": "python",
   "pygments_lexer": "ipython3",
   "version": "3.9.13"
  }
 },
 "nbformat": 4,
 "nbformat_minor": 5
}
